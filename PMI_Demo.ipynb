{
 "metadata": {
  "language_info": {
   "codemirror_mode": {
    "name": "ipython",
    "version": 3
   },
   "file_extension": ".py",
   "mimetype": "text/x-python",
   "name": "python",
   "nbconvert_exporter": "python",
   "pygments_lexer": "ipython3",
   "version": "3.8.8"
  },
  "orig_nbformat": 2,
  "kernelspec": {
   "name": "python388jvsc74a57bd03358562eb098755da5b1999340ee09ba540aaf5a69f47acbd14300887b73f523",
   "display_name": "Python 3.8.8 64-bit ('torch18': conda)"
  }
 },
 "nbformat": 4,
 "nbformat_minor": 2,
 "cells": [
  {
   "source": [
    "# Approximate Inference in probabilistic modeling\n",
    "\n",
    "## 1. Introduction\n",
    "\n",
    "Exact inference in probabilistic models is usually not possible, due to intractability of expectations or any other quantity involving integrals which are not analytically computable. Hence, algorithms which are able to perform inference approximately, are widely used. 2 main classes of approximate inference algorithms are Variational Inference (VI) based methods, and Sampling based methods.\n",
    "\n",
    "In this notebook, emphasis will be on demonstrating the efficiency and usefulness of such approximate inference algorithms for probabilistic modeling tasks. "
   ],
   "cell_type": "markdown",
   "metadata": {}
  },
  {
   "source": [
    "## 2. Sampling based methods\n",
    "### 2.1 Rejection Sampling\n",
    "\n",
    "The most basic algorithm used to sample from a distribution which is not fully tractable, is **Rejection Sampling**. Consider a probability distribution $p(x) = \\frac{\\tilde{p}(x)}{Z_p}$, where $Z_p$ is intractable. However, we can evaluate $\\tilde{p}(x) \\,\\, \\forall x \\, \\in \\, \\text{Support}(\\tilde{p}(x))$.\n",
    "The algorithm is simple : At every iteration $t$, we sample $x^{(t)}$ from a proposal distribution $q(x)$ and $u$ from $U[0, Mq(x)]$, where M is a constant such that $Mq(x) > \\tilde{p}(x) \\,\\, \\forall x \\, \\in \\, \\text{Support}(\\tilde{p}(x))$. The support of the proposal distribution should be atleast the support of $\\tilde{p}(x)$. \n",
    "\n",
    "If $u \\geq \\tilde{p}(x)$, we add $x^{(t)}$ to the set of samples, else it is rejected. "
   ],
   "cell_type": "markdown",
   "metadata": {}
  },
  {
   "cell_type": "code",
   "execution_count": 16,
   "metadata": {},
   "outputs": [],
   "source": [
    "import numpy as np \n",
    "from scipy.special import gamma\n",
    "import matplotlib.pyplot as plt"
   ]
  },
  {
   "cell_type": "code",
   "execution_count": 19,
   "metadata": {},
   "outputs": [
    {
     "output_type": "display_data",
     "data": {
      "text/plain": "<Figure size 432x288 with 1 Axes>",
      "image/svg+xml": "<?xml version=\"1.0\" encoding=\"utf-8\" standalone=\"no\"?>\n<!DOCTYPE svg PUBLIC \"-//W3C//DTD SVG 1.1//EN\"\n  \"http://www.w3.org/Graphics/SVG/1.1/DTD/svg11.dtd\">\n<!-- Created with matplotlib (https://matplotlib.org/) -->\n<svg height=\"248.518125pt\" version=\"1.1\" viewBox=\"0 0 381.65 248.518125\" width=\"381.65pt\" xmlns=\"http://www.w3.org/2000/svg\" xmlns:xlink=\"http://www.w3.org/1999/xlink\">\n <metadata>\n  <rdf:RDF xmlns:cc=\"http://creativecommons.org/ns#\" xmlns:dc=\"http://purl.org/dc/elements/1.1/\" xmlns:rdf=\"http://www.w3.org/1999/02/22-rdf-syntax-ns#\">\n   <cc:Work>\n    <dc:type rdf:resource=\"http://purl.org/dc/dcmitype/StillImage\"/>\n    <dc:date>2021-04-27T09:15:59.885205</dc:date>\n    <dc:format>image/svg+xml</dc:format>\n    <dc:creator>\n     <cc:Agent>\n      <dc:title>Matplotlib v3.3.4, https://matplotlib.org/</dc:title>\n     </cc:Agent>\n    </dc:creator>\n   </cc:Work>\n  </rdf:RDF>\n </metadata>\n <defs>\n  <style type=\"text/css\">*{stroke-linecap:butt;stroke-linejoin:round;}</style>\n </defs>\n <g id=\"figure_1\">\n  <g id=\"patch_1\">\n   <path d=\"M -0 248.518125 \nL 381.65 248.518125 \nL 381.65 0 \nL -0 0 \nz\n\" style=\"fill:none;\"/>\n  </g>\n  <g id=\"axes_1\">\n   <g id=\"patch_2\">\n    <path d=\"M 39.65 224.64 \nL 374.45 224.64 \nL 374.45 7.2 \nL 39.65 7.2 \nz\n\" style=\"fill:#ffffff;\"/>\n   </g>\n   <g id=\"patch_3\">\n    <path clip-path=\"url(#p7d6906bcec)\" d=\"M 54.868182 224.64 \nL 85.304545 224.64 \nL 85.304545 221.616851 \nL 54.868182 221.616851 \nz\n\" style=\"fill:#ff7f0e;\"/>\n   </g>\n   <g id=\"patch_4\">\n    <path clip-path=\"url(#p7d6906bcec)\" d=\"M 85.304545 224.64 \nL 115.740909 224.64 \nL 115.740909 208.01268 \nL 85.304545 208.01268 \nz\n\" style=\"fill:#ff7f0e;\"/>\n   </g>\n   <g id=\"patch_5\">\n    <path clip-path=\"url(#p7d6906bcec)\" d=\"M 115.740909 224.64 \nL 146.177273 224.64 \nL 146.177273 192.699772 \nL 115.740909 192.699772 \nz\n\" style=\"fill:#ff7f0e;\"/>\n   </g>\n   <g id=\"patch_6\">\n    <path clip-path=\"url(#p7d6906bcec)\" d=\"M 146.177273 224.64 \nL 176.613636 224.64 \nL 176.613636 151.690097 \nL 146.177273 151.690097 \nz\n\" style=\"fill:#ff7f0e;\"/>\n   </g>\n   <g id=\"patch_7\">\n    <path clip-path=\"url(#p7d6906bcec)\" d=\"M 176.613636 224.64 \nL 207.05 224.64 \nL 207.05 35.364577 \nL 176.613636 35.364577 \nz\n\" style=\"fill:#ff7f0e;\"/>\n   </g>\n   <g id=\"patch_8\">\n    <path clip-path=\"url(#p7d6906bcec)\" d=\"M 207.05 224.64 \nL 237.486364 224.64 \nL 237.486364 17.554286 \nL 207.05 17.554286 \nz\n\" style=\"fill:#ff7f0e;\"/>\n   </g>\n   <g id=\"patch_9\">\n    <path clip-path=\"url(#p7d6906bcec)\" d=\"M 237.486364 224.64 \nL 267.922727 224.64 \nL 267.922727 145.775241 \nL 237.486364 145.775241 \nz\n\" style=\"fill:#ff7f0e;\"/>\n   </g>\n   <g id=\"patch_10\">\n    <path clip-path=\"url(#p7d6906bcec)\" d=\"M 267.922727 224.64 \nL 298.359091 224.64 \nL 298.359091 189.873785 \nL 267.922727 189.873785 \nz\n\" style=\"fill:#ff7f0e;\"/>\n   </g>\n   <g id=\"patch_11\">\n    <path clip-path=\"url(#p7d6906bcec)\" d=\"M 298.359091 224.64 \nL 328.795455 224.64 \nL 328.795455 205.120972 \nL 298.359091 205.120972 \nz\n\" style=\"fill:#ff7f0e;\"/>\n   </g>\n   <g id=\"patch_12\">\n    <path clip-path=\"url(#p7d6906bcec)\" d=\"M 328.795455 224.64 \nL 359.231818 224.64 \nL 359.231818 221.48541 \nL 328.795455 221.48541 \nz\n\" style=\"fill:#ff7f0e;\"/>\n   </g>\n   <g id=\"matplotlib.axis_1\">\n    <g id=\"xtick_1\">\n     <g id=\"line2d_1\">\n      <defs>\n       <path d=\"M 0 0 \nL 0 3.5 \n\" id=\"me2a16302e5\" style=\"stroke:#000000;stroke-width:0.8;\"/>\n      </defs>\n      <g>\n       <use style=\"stroke:#000000;stroke-width:0.8;\" x=\"92.947448\" xlink:href=\"#me2a16302e5\" y=\"224.64\"/>\n      </g>\n     </g>\n     <g id=\"text_1\">\n      <!-- −4 -->\n      <g transform=\"translate(85.576354 239.238437)scale(0.1 -0.1)\">\n       <defs>\n        <path d=\"M 10.59375 35.5 \nL 73.1875 35.5 \nL 73.1875 27.203125 \nL 10.59375 27.203125 \nz\n\" id=\"DejaVuSans-8722\"/>\n        <path d=\"M 37.796875 64.3125 \nL 12.890625 25.390625 \nL 37.796875 25.390625 \nz\nM 35.203125 72.90625 \nL 47.609375 72.90625 \nL 47.609375 25.390625 \nL 58.015625 25.390625 \nL 58.015625 17.1875 \nL 47.609375 17.1875 \nL 47.609375 0 \nL 37.796875 0 \nL 37.796875 17.1875 \nL 4.890625 17.1875 \nL 4.890625 26.703125 \nz\n\" id=\"DejaVuSans-52\"/>\n       </defs>\n       <use xlink:href=\"#DejaVuSans-8722\"/>\n       <use x=\"83.789062\" xlink:href=\"#DejaVuSans-52\"/>\n      </g>\n     </g>\n    </g>\n    <g id=\"xtick_2\">\n     <g id=\"line2d_2\">\n      <g>\n       <use style=\"stroke:#000000;stroke-width:0.8;\" x=\"150.983745\" xlink:href=\"#me2a16302e5\" y=\"224.64\"/>\n      </g>\n     </g>\n     <g id=\"text_2\">\n      <!-- −2 -->\n      <g transform=\"translate(143.612652 239.238437)scale(0.1 -0.1)\">\n       <defs>\n        <path d=\"M 19.1875 8.296875 \nL 53.609375 8.296875 \nL 53.609375 0 \nL 7.328125 0 \nL 7.328125 8.296875 \nQ 12.9375 14.109375 22.625 23.890625 \nQ 32.328125 33.6875 34.8125 36.53125 \nQ 39.546875 41.84375 41.421875 45.53125 \nQ 43.3125 49.21875 43.3125 52.78125 \nQ 43.3125 58.59375 39.234375 62.25 \nQ 35.15625 65.921875 28.609375 65.921875 \nQ 23.96875 65.921875 18.8125 64.3125 \nQ 13.671875 62.703125 7.8125 59.421875 \nL 7.8125 69.390625 \nQ 13.765625 71.78125 18.9375 73 \nQ 24.125 74.21875 28.421875 74.21875 \nQ 39.75 74.21875 46.484375 68.546875 \nQ 53.21875 62.890625 53.21875 53.421875 \nQ 53.21875 48.921875 51.53125 44.890625 \nQ 49.859375 40.875 45.40625 35.40625 \nQ 44.1875 33.984375 37.640625 27.21875 \nQ 31.109375 20.453125 19.1875 8.296875 \nz\n\" id=\"DejaVuSans-50\"/>\n       </defs>\n       <use xlink:href=\"#DejaVuSans-8722\"/>\n       <use x=\"83.789062\" xlink:href=\"#DejaVuSans-50\"/>\n      </g>\n     </g>\n    </g>\n    <g id=\"xtick_3\">\n     <g id=\"line2d_3\">\n      <g>\n       <use style=\"stroke:#000000;stroke-width:0.8;\" x=\"209.020043\" xlink:href=\"#me2a16302e5\" y=\"224.64\"/>\n      </g>\n     </g>\n     <g id=\"text_3\">\n      <!-- 0 -->\n      <g transform=\"translate(205.838793 239.238437)scale(0.1 -0.1)\">\n       <defs>\n        <path d=\"M 31.78125 66.40625 \nQ 24.171875 66.40625 20.328125 58.90625 \nQ 16.5 51.421875 16.5 36.375 \nQ 16.5 21.390625 20.328125 13.890625 \nQ 24.171875 6.390625 31.78125 6.390625 \nQ 39.453125 6.390625 43.28125 13.890625 \nQ 47.125 21.390625 47.125 36.375 \nQ 47.125 51.421875 43.28125 58.90625 \nQ 39.453125 66.40625 31.78125 66.40625 \nz\nM 31.78125 74.21875 \nQ 44.046875 74.21875 50.515625 64.515625 \nQ 56.984375 54.828125 56.984375 36.375 \nQ 56.984375 17.96875 50.515625 8.265625 \nQ 44.046875 -1.421875 31.78125 -1.421875 \nQ 19.53125 -1.421875 13.0625 8.265625 \nQ 6.59375 17.96875 6.59375 36.375 \nQ 6.59375 54.828125 13.0625 64.515625 \nQ 19.53125 74.21875 31.78125 74.21875 \nz\n\" id=\"DejaVuSans-48\"/>\n       </defs>\n       <use xlink:href=\"#DejaVuSans-48\"/>\n      </g>\n     </g>\n    </g>\n    <g id=\"xtick_4\">\n     <g id=\"line2d_4\">\n      <g>\n       <use style=\"stroke:#000000;stroke-width:0.8;\" x=\"267.05634\" xlink:href=\"#me2a16302e5\" y=\"224.64\"/>\n      </g>\n     </g>\n     <g id=\"text_4\">\n      <!-- 2 -->\n      <g transform=\"translate(263.87509 239.238437)scale(0.1 -0.1)\">\n       <use xlink:href=\"#DejaVuSans-50\"/>\n      </g>\n     </g>\n    </g>\n    <g id=\"xtick_5\">\n     <g id=\"line2d_5\">\n      <g>\n       <use style=\"stroke:#000000;stroke-width:0.8;\" x=\"325.092637\" xlink:href=\"#me2a16302e5\" y=\"224.64\"/>\n      </g>\n     </g>\n     <g id=\"text_5\">\n      <!-- 4 -->\n      <g transform=\"translate(321.911387 239.238437)scale(0.1 -0.1)\">\n       <use xlink:href=\"#DejaVuSans-52\"/>\n      </g>\n     </g>\n    </g>\n   </g>\n   <g id=\"matplotlib.axis_2\">\n    <g id=\"ytick_1\">\n     <g id=\"line2d_6\">\n      <defs>\n       <path d=\"M 0 0 \nL -3.5 0 \n\" id=\"m44d9fd3f78\" style=\"stroke:#000000;stroke-width:0.8;\"/>\n      </defs>\n      <g>\n       <use style=\"stroke:#000000;stroke-width:0.8;\" x=\"39.65\" xlink:href=\"#m44d9fd3f78\" y=\"224.64\"/>\n      </g>\n     </g>\n     <g id=\"text_6\">\n      <!-- 0 -->\n      <g transform=\"translate(26.2875 228.439219)scale(0.1 -0.1)\">\n       <use xlink:href=\"#DejaVuSans-48\"/>\n      </g>\n     </g>\n    </g>\n    <g id=\"ytick_2\">\n     <g id=\"line2d_7\">\n      <g>\n       <use style=\"stroke:#000000;stroke-width:0.8;\" x=\"39.65\" xlink:href=\"#m44d9fd3f78\" y=\"191.779684\"/>\n      </g>\n     </g>\n     <g id=\"text_7\">\n      <!-- 500 -->\n      <g transform=\"translate(13.5625 195.578902)scale(0.1 -0.1)\">\n       <defs>\n        <path d=\"M 10.796875 72.90625 \nL 49.515625 72.90625 \nL 49.515625 64.59375 \nL 19.828125 64.59375 \nL 19.828125 46.734375 \nQ 21.96875 47.46875 24.109375 47.828125 \nQ 26.265625 48.1875 28.421875 48.1875 \nQ 40.625 48.1875 47.75 41.5 \nQ 54.890625 34.8125 54.890625 23.390625 \nQ 54.890625 11.625 47.5625 5.09375 \nQ 40.234375 -1.421875 26.90625 -1.421875 \nQ 22.3125 -1.421875 17.546875 -0.640625 \nQ 12.796875 0.140625 7.71875 1.703125 \nL 7.71875 11.625 \nQ 12.109375 9.234375 16.796875 8.0625 \nQ 21.484375 6.890625 26.703125 6.890625 \nQ 35.15625 6.890625 40.078125 11.328125 \nQ 45.015625 15.765625 45.015625 23.390625 \nQ 45.015625 31 40.078125 35.4375 \nQ 35.15625 39.890625 26.703125 39.890625 \nQ 22.75 39.890625 18.8125 39.015625 \nQ 14.890625 38.140625 10.796875 36.28125 \nz\n\" id=\"DejaVuSans-53\"/>\n       </defs>\n       <use xlink:href=\"#DejaVuSans-53\"/>\n       <use x=\"63.623047\" xlink:href=\"#DejaVuSans-48\"/>\n       <use x=\"127.246094\" xlink:href=\"#DejaVuSans-48\"/>\n      </g>\n     </g>\n    </g>\n    <g id=\"ytick_3\">\n     <g id=\"line2d_8\">\n      <g>\n       <use style=\"stroke:#000000;stroke-width:0.8;\" x=\"39.65\" xlink:href=\"#m44d9fd3f78\" y=\"158.919367\"/>\n      </g>\n     </g>\n     <g id=\"text_8\">\n      <!-- 1000 -->\n      <g transform=\"translate(7.2 162.718586)scale(0.1 -0.1)\">\n       <defs>\n        <path d=\"M 12.40625 8.296875 \nL 28.515625 8.296875 \nL 28.515625 63.921875 \nL 10.984375 60.40625 \nL 10.984375 69.390625 \nL 28.421875 72.90625 \nL 38.28125 72.90625 \nL 38.28125 8.296875 \nL 54.390625 8.296875 \nL 54.390625 0 \nL 12.40625 0 \nz\n\" id=\"DejaVuSans-49\"/>\n       </defs>\n       <use xlink:href=\"#DejaVuSans-49\"/>\n       <use x=\"63.623047\" xlink:href=\"#DejaVuSans-48\"/>\n       <use x=\"127.246094\" xlink:href=\"#DejaVuSans-48\"/>\n       <use x=\"190.869141\" xlink:href=\"#DejaVuSans-48\"/>\n      </g>\n     </g>\n    </g>\n    <g id=\"ytick_4\">\n     <g id=\"line2d_9\">\n      <g>\n       <use style=\"stroke:#000000;stroke-width:0.8;\" x=\"39.65\" xlink:href=\"#m44d9fd3f78\" y=\"126.059051\"/>\n      </g>\n     </g>\n     <g id=\"text_9\">\n      <!-- 1500 -->\n      <g transform=\"translate(7.2 129.858269)scale(0.1 -0.1)\">\n       <use xlink:href=\"#DejaVuSans-49\"/>\n       <use x=\"63.623047\" xlink:href=\"#DejaVuSans-53\"/>\n       <use x=\"127.246094\" xlink:href=\"#DejaVuSans-48\"/>\n       <use x=\"190.869141\" xlink:href=\"#DejaVuSans-48\"/>\n      </g>\n     </g>\n    </g>\n    <g id=\"ytick_5\">\n     <g id=\"line2d_10\">\n      <g>\n       <use style=\"stroke:#000000;stroke-width:0.8;\" x=\"39.65\" xlink:href=\"#m44d9fd3f78\" y=\"93.198734\"/>\n      </g>\n     </g>\n     <g id=\"text_10\">\n      <!-- 2000 -->\n      <g transform=\"translate(7.2 96.997953)scale(0.1 -0.1)\">\n       <use xlink:href=\"#DejaVuSans-50\"/>\n       <use x=\"63.623047\" xlink:href=\"#DejaVuSans-48\"/>\n       <use x=\"127.246094\" xlink:href=\"#DejaVuSans-48\"/>\n       <use x=\"190.869141\" xlink:href=\"#DejaVuSans-48\"/>\n      </g>\n     </g>\n    </g>\n    <g id=\"ytick_6\">\n     <g id=\"line2d_11\">\n      <g>\n       <use style=\"stroke:#000000;stroke-width:0.8;\" x=\"39.65\" xlink:href=\"#m44d9fd3f78\" y=\"60.338418\"/>\n      </g>\n     </g>\n     <g id=\"text_11\">\n      <!-- 2500 -->\n      <g transform=\"translate(7.2 64.137636)scale(0.1 -0.1)\">\n       <use xlink:href=\"#DejaVuSans-50\"/>\n       <use x=\"63.623047\" xlink:href=\"#DejaVuSans-53\"/>\n       <use x=\"127.246094\" xlink:href=\"#DejaVuSans-48\"/>\n       <use x=\"190.869141\" xlink:href=\"#DejaVuSans-48\"/>\n      </g>\n     </g>\n    </g>\n    <g id=\"ytick_7\">\n     <g id=\"line2d_12\">\n      <g>\n       <use style=\"stroke:#000000;stroke-width:0.8;\" x=\"39.65\" xlink:href=\"#m44d9fd3f78\" y=\"27.478101\"/>\n      </g>\n     </g>\n     <g id=\"text_12\">\n      <!-- 3000 -->\n      <g transform=\"translate(7.2 31.27732)scale(0.1 -0.1)\">\n       <defs>\n        <path d=\"M 40.578125 39.3125 \nQ 47.65625 37.796875 51.625 33 \nQ 55.609375 28.21875 55.609375 21.1875 \nQ 55.609375 10.40625 48.1875 4.484375 \nQ 40.765625 -1.421875 27.09375 -1.421875 \nQ 22.515625 -1.421875 17.65625 -0.515625 \nQ 12.796875 0.390625 7.625 2.203125 \nL 7.625 11.71875 \nQ 11.71875 9.328125 16.59375 8.109375 \nQ 21.484375 6.890625 26.8125 6.890625 \nQ 36.078125 6.890625 40.9375 10.546875 \nQ 45.796875 14.203125 45.796875 21.1875 \nQ 45.796875 27.640625 41.28125 31.265625 \nQ 36.765625 34.90625 28.71875 34.90625 \nL 20.21875 34.90625 \nL 20.21875 43.015625 \nL 29.109375 43.015625 \nQ 36.375 43.015625 40.234375 45.921875 \nQ 44.09375 48.828125 44.09375 54.296875 \nQ 44.09375 59.90625 40.109375 62.90625 \nQ 36.140625 65.921875 28.71875 65.921875 \nQ 24.65625 65.921875 20.015625 65.03125 \nQ 15.375 64.15625 9.8125 62.3125 \nL 9.8125 71.09375 \nQ 15.4375 72.65625 20.34375 73.4375 \nQ 25.25 74.21875 29.59375 74.21875 \nQ 40.828125 74.21875 47.359375 69.109375 \nQ 53.90625 64.015625 53.90625 55.328125 \nQ 53.90625 49.265625 50.4375 45.09375 \nQ 46.96875 40.921875 40.578125 39.3125 \nz\n\" id=\"DejaVuSans-51\"/>\n       </defs>\n       <use xlink:href=\"#DejaVuSans-51\"/>\n       <use x=\"63.623047\" xlink:href=\"#DejaVuSans-48\"/>\n       <use x=\"127.246094\" xlink:href=\"#DejaVuSans-48\"/>\n       <use x=\"190.869141\" xlink:href=\"#DejaVuSans-48\"/>\n      </g>\n     </g>\n    </g>\n   </g>\n   <g id=\"line2d_13\">\n    <path clip-path=\"url(#p7d6906bcec)\" d=\"M 117.85684 207.318694 \nL 119.698521 206.665943 \nL 121.540202 205.976982 \nL 123.381883 205.249202 \nL 125.223564 204.479763 \nL 127.065244 203.665578 \nL 128.906925 202.803285 \nL 130.748606 201.88922 \nL 132.590287 200.919388 \nL 134.431968 199.889429 \nL 136.273649 198.794581 \nL 138.11533 197.629641 \nL 139.957011 196.388921 \nL 141.798691 195.066198 \nL 143.640372 193.654665 \nL 145.482053 192.146876 \nL 147.323734 190.534681 \nL 149.165415 188.80917 \nL 151.007096 186.9606 \nL 152.848777 184.978336 \nL 154.690457 182.850778 \nL 156.532138 180.565302 \nL 158.373819 178.108206 \nL 160.2155 175.464666 \nL 162.057181 172.61872 \nL 163.898862 169.553279 \nL 165.740543 166.250191 \nL 167.582223 162.690366 \nL 169.423904 158.854002 \nL 171.265585 154.720926 \nL 173.107266 150.271111 \nL 174.948947 145.485405 \nL 176.790628 140.346537 \nL 178.632309 134.840465 \nL 180.473989 128.958145 \nL 182.31567 122.697776 \nL 184.157351 116.067576 \nL 185.999032 109.08909 \nL 187.840713 101.800962 \nL 189.682394 94.26298 \nL 191.524075 86.560037 \nL 193.365755 78.805452 \nL 195.207436 71.142861 \nL 197.049117 63.74572 \nL 198.890798 56.813416 \nL 200.732479 50.563176 \nL 202.57416 45.217498 \nL 204.415841 40.987701 \nL 206.257522 38.055272 \nL 208.099202 36.553658 \nL 209.940883 36.553658 \nL 211.782564 38.055272 \nL 213.624245 40.987701 \nL 215.465926 45.217498 \nL 217.307607 50.563176 \nL 219.149288 56.813416 \nL 220.990968 63.74572 \nL 222.832649 71.142861 \nL 224.67433 78.805452 \nL 226.516011 86.560037 \nL 228.357692 94.26298 \nL 230.199373 101.800962 \nL 232.041054 109.08909 \nL 233.882734 116.067576 \nL 235.724415 122.697776 \nL 237.566096 128.958145 \nL 239.407777 134.840465 \nL 241.249458 140.346537 \nL 243.091139 145.485405 \nL 244.93282 150.271111 \nL 246.7745 154.720926 \nL 248.616181 158.854002 \nL 250.457862 162.690366 \nL 252.299543 166.250191 \nL 254.141224 169.553279 \nL 255.982905 172.61872 \nL 257.824586 175.464666 \nL 259.666266 178.108206 \nL 261.507947 180.565302 \nL 263.349628 182.850778 \nL 265.191309 184.978336 \nL 267.03299 186.9606 \nL 268.874671 188.80917 \nL 270.716352 190.534681 \nL 272.558032 192.146876 \nL 274.399713 193.654665 \nL 276.241394 195.066198 \nL 278.083075 196.388921 \nL 279.924756 197.629641 \nL 281.766437 198.794581 \nL 283.608118 199.889429 \nL 285.449799 200.919388 \nL 287.291479 201.88922 \nL 289.13316 202.803285 \nL 290.974841 203.665578 \nL 292.816522 204.479763 \nL 294.658203 205.249202 \nL 296.499884 205.976982 \nL 298.341565 206.665943 \nL 300.183245 207.318694 \n\" style=\"fill:none;stroke:#1f77b4;stroke-linecap:square;stroke-width:1.5;\"/>\n   </g>\n   <g id=\"patch_13\">\n    <path d=\"M 39.65 224.64 \nL 39.65 7.2 \n\" style=\"fill:none;stroke:#000000;stroke-linecap:square;stroke-linejoin:miter;stroke-width:0.8;\"/>\n   </g>\n   <g id=\"patch_14\">\n    <path d=\"M 374.45 224.64 \nL 374.45 7.2 \n\" style=\"fill:none;stroke:#000000;stroke-linecap:square;stroke-linejoin:miter;stroke-width:0.8;\"/>\n   </g>\n   <g id=\"patch_15\">\n    <path d=\"M 39.65 224.64 \nL 374.45 224.64 \n\" style=\"fill:none;stroke:#000000;stroke-linecap:square;stroke-linejoin:miter;stroke-width:0.8;\"/>\n   </g>\n   <g id=\"patch_16\">\n    <path d=\"M 39.65 7.2 \nL 374.45 7.2 \n\" style=\"fill:none;stroke:#000000;stroke-linecap:square;stroke-linejoin:miter;stroke-width:0.8;\"/>\n   </g>\n  </g>\n </g>\n <defs>\n  <clipPath id=\"p7d6906bcec\">\n   <rect height=\"217.44\" width=\"334.8\" x=\"39.65\" y=\"7.2\"/>\n  </clipPath>\n </defs>\n</svg>\n",
      "image/png": "[encoded data removed]"
     },
     "metadata": {
      "needs_background": "light"
     }
    }
   ],
   "source": [
    "'''1-Dimensional rejection sampling algorithm.\n",
    "   Try out different p_c (target) distributions and values of M, Q_VAR\n",
    "   to assess convergence\n",
    "'''\n",
    "\n",
    "N_SAMPLES = 10000\n",
    "Q_VAR = 1.0\n",
    "\n",
    "MU = 0\n",
    "GAMMA = 1\n",
    "\n",
    "M = 250\n",
    "\n",
    "def rejection_sampling(p_c, q, M, n_samples=N_SAMPLES):\n",
    "    samples = []\n",
    "    while(len(samples) < n_samples):\n",
    "        z = np.random.normal(0.0, np.sqrt(Q_VAR))\n",
    "        u = np.random.uniform(0.0, M*q(z))\n",
    "        if u <= p_c(z):\n",
    "            samples.append(z)\n",
    "    samples = np.array(samples)\n",
    "    return samples\n",
    "\n",
    "def plot_histogram(samples, p_c):\n",
    "    X = np.linspace(-np.pi,np.pi,100)\n",
    "    p_cX = p_c(X)\n",
    "    plt.plot(X,9000*p_cX)       #Scale as per preference and visibility\n",
    "    plt.hist(samples)\n",
    "    # plt.show()\n",
    "    plt.savefig(\"sample.png\")\n",
    "\n",
    "p_cauchy = lambda x: (1/(np.pi * GAMMA)) * ( 1 / ( 1 + ((x-MU)/GAMMA) ** 2 ) )\n",
    "q = lambda x: np.exp((-x**2)/(2*Q_VAR)) / np.sqrt(2*np.pi*Q_VAR)\n",
    "p_beta = lambda x: (1/(np.pi * GAMMA)) * ( 1 / ( 1 + ((x-MU)/GAMMA) ** 2 ) )\n",
    "samples = rejection_sampling(p_c, q, M)\n",
    "plot_histogram(samples, p_c)"
   ]
  },
  {
   "cell_type": "code",
   "execution_count": null,
   "metadata": {},
   "outputs": [],
   "source": []
  },
  {
   "source": [
    "### 2.2 Monte Carlo sampling\n",
    "\n",
    "This method is used to compute intractable expectations approximately. For commputing expectation of $f(x)$ over a distribution $p(x)$ (which can be sampled from), we have $$E_p[f(x)] = \\int f(x) p(x) dx \\\\\n",
    "                                E_p[f(x)] \\approx \\frac{1}{S} \\sum_{s=1}^S f(x^{(s)}) \\quad ; \\quad x^{(s)} \\sim p(x)$$\n"
   ],
   "cell_type": "markdown",
   "metadata": {}
  },
  {
   "source": [
    "### 2.3 Importance sampling\n",
    "\n",
    "This method is used to compute intractable expectations approximately, where we cannot sample directly from the target distribution.\n",
    "Consider a function $f(x)$, whose expectation we wish to calculate, over a distribution $p(x)$. Suppose that the quantity $$E_p[f(x)] = \\int f(x) p(x) dx$$ is intractable. We use a proposal distribution $q(x)$ (again defined atleast over the support of $p(x)$) so that the integral above is written as $$E_p[f(x)] = \\int f(x) \\frac{p(x)}{q(x)} q(x) dx \\\\\n",
    "                          = E_q[f(x)w(x)]$$\n",
    "This quantity can be easily approximated using Monte Carlo sampling such that $$E_q[f(x)w(x)] = \\frac{1}{S}\\sum_{s=1}^S f(x^{(s)})w(x^{(s)}) \\quad ; \\quad \\{x^{(s)}\\}_{s=1}^S \\sim q(x).$$"
   ],
   "cell_type": "markdown",
   "metadata": {}
  },
  {
   "source": [
    "** *Note that Monte Carlo sampling and Importance sampling are not designed to sample from a probability distribution, but only to compute expectations over a given distribution.* **\n",
    "\n",
    "The above algorithms are useful till the problems involved are of low-dimension and \"simple\". As soon as the complexity increases, the above methods fail to provide a solution to the approximate inference problem.\n",
    "\n",
    "Hence we consider MCMC based sampling algorithms which can generalize well to problems of increased complexity."
   ],
   "cell_type": "markdown",
   "metadata": {}
  },
  {
   "source": [
    "#### Quick Detour - Markov Chains\n",
    "\n",
    "Markov chains are an interesting and important concept in probability, where we model a series of outcomes, with the current state based only on the previous outcome. Formally $$p(x_t \\, | \\, x_1,x_2,...,x_{t-1}) = p(x_t\\, | \\, x_{t-1})$$"
   ],
   "cell_type": "markdown",
   "metadata": {}
  },
  {
   "source": [
    "### 2.4 Metropolis-Hastings (MH) Algorithm\n",
    "\n",
    "This is one of the most important MCMC based sampling methods. "
   ],
   "cell_type": "markdown",
   "metadata": {}
  },
  {
   "source": [
    "### 2.5 Gibbs Sampling\n",
    "\n",
    "Another important sampling algorithm"
   ],
   "cell_type": "markdown",
   "metadata": {}
  },
  {
   "cell_type": "code",
   "execution_count": null,
   "metadata": {},
   "outputs": [],
   "source": []
  }
 ]
}
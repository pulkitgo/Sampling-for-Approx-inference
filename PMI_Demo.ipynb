{
 "metadata": {
  "language_info": {
   "codemirror_mode": {
    "name": "ipython",
    "version": 3
   },
   "file_extension": ".py",
   "mimetype": "text/x-python",
   "name": "python",
   "nbconvert_exporter": "python",
   "pygments_lexer": "ipython3",
   "version": "3.8.8"
  },
  "orig_nbformat": 2,
  "kernelspec": {
   "name": "python388jvsc74a57bd03358562eb098755da5b1999340ee09ba540aaf5a69f47acbd14300887b73f523",
   "display_name": "Python 3.8.8 64-bit ('torch18': conda)"
  }
 },
 "nbformat": 4,
 "nbformat_minor": 2,
 "cells": [
  {
   "source": [
    "# Approximate Inference in probabilistic modeling\n",
    "\n",
    "## 1. Introduction\n",
    "\n",
    "Exact inference in probabilistic models is usually not possible, due to intractability of expectations or any other quantity involving integrals which are not analytically computable. Hence, algorithms which are able to perform inference approximately, are widely used. 2 main classes of approximate inference algorithms are Variational Inference (VI) based methods, and Sampling based methods.\n",
    "\n",
    "In this notebook, emphasis will be on demonstrating the efficiency and usefulness of such approximate inference algorithms for probabilistic modeling tasks. "
   ],
   "cell_type": "markdown",
   "metadata": {}
  },
  {
   "source": [
    "## 2. Sampling based methods\n",
    "### 2.1 Rejection Sampling\n",
    "\n",
    "The most basic algorithm used to sample from a distribution which is not fully tractable, is **Rejection Sampling**. Consider a probability distribution $p(x) = \\frac{\\tilde{p}(x)}{Z_p}$, where $Z_p$ is intractable. However, we can evaluate $\\tilde{p}(x) \\,\\, \\forall x \\, \\in \\, \\text{Support}(\\tilde{p}(x))$.\n",
    "The algorithm is simple : At every iteration $t$, we sample $x^{(t)}$ from a proposal distribution $q(x)$ and $u$ from $U[0, Mq(x)]$, where M is a constant such that $Mq(x) > \\tilde{p}(x) \\,\\, \\forall x \\, \\in \\, \\text{Support}(\\tilde{p}(x))$. The support of the proposal distribution should be atleast the support of $\\tilde{p}(x)$. \n",
    "\n",
    "If $u \\geq \\tilde{p}(x)$, we add $x^{(t)}$ to the set of samples, else it is rejected. "
   ],
   "cell_type": "markdown",
   "metadata": {}
  },
  {
   "cell_type": "code",
   "execution_count": 3,
   "metadata": {},
   "outputs": [],
   "source": [
    "import numpy as np \n",
    "from scipy.special import gamma\n",
    "import matplotlib.pyplot as plt"
   ]
  },
  {
   "cell_type": "code",
   "execution_count": 44,
   "metadata": {},
   "outputs": [
    {
     "output_type": "display_data",
     "data": {
      "text/plain": "<Figure size 432x288 with 1 Axes>",
      "image/svg+xml": "<?xml version=\"1.0\" encoding=\"utf-8\" standalone=\"no\"?>\n<!DOCTYPE svg PUBLIC \"-//W3C//DTD SVG 1.1//EN\"\n  \"http://www.w3.org/Graphics/SVG/1.1/DTD/svg11.dtd\">\n<!-- Created with matplotlib (https://matplotlib.org/) -->\n<svg height=\"248.518125pt\" version=\"1.1\" viewBox=\"0 0 381.65 248.518125\" width=\"381.65pt\" xmlns=\"http://www.w3.org/2000/svg\" xmlns:xlink=\"http://www.w3.org/1999/xlink\">\n <metadata>\n  <rdf:RDF xmlns:cc=\"http://creativecommons.org/ns#\" xmlns:dc=\"http://purl.org/dc/elements/1.1/\" xmlns:rdf=\"http://www.w3.org/1999/02/22-rdf-syntax-ns#\">\n   <cc:Work>\n    <dc:type rdf:resource=\"http://purl.org/dc/dcmitype/StillImage\"/>\n    <dc:date>2021-04-27T09:49:43.739510</dc:date>\n    <dc:format>image/svg+xml</dc:format>\n    <dc:creator>\n     <cc:Agent>\n      <dc:title>Matplotlib v3.3.4, https://matplotlib.org/</dc:title>\n     </cc:Agent>\n    </dc:creator>\n   </cc:Work>\n  </rdf:RDF>\n </metadata>\n <defs>\n  <style type=\"text/css\">*{stroke-linecap:butt;stroke-linejoin:round;}</style>\n </defs>\n <g id=\"figure_1\">\n  <g id=\"patch_1\">\n   <path d=\"M -0 248.518125 \nL 381.65 248.518125 \nL 381.65 0 \nL -0 0 \nz\n\" style=\"fill:none;\"/>\n  </g>\n  <g id=\"axes_1\">\n   <g id=\"patch_2\">\n    <path d=\"M 39.65 224.64 \nL 374.45 224.64 \nL 374.45 7.2 \nL 39.65 7.2 \nz\n\" style=\"fill:#ffffff;\"/>\n   </g>\n   <g id=\"patch_3\">\n    <path clip-path=\"url(#p2a5ffeb6ed)\" d=\"M 54.868182 224.64 \nL 85.304545 224.64 \nL 85.304545 221.947953 \nL 54.868182 221.947953 \nz\n\" style=\"fill:#1f77b4;\"/>\n   </g>\n   <g id=\"patch_4\">\n    <path clip-path=\"url(#p2a5ffeb6ed)\" d=\"M 85.304545 224.64 \nL 115.740909 224.64 \nL 115.740909 204.180443 \nL 85.304545 204.180443 \nz\n\" style=\"fill:#1f77b4;\"/>\n   </g>\n   <g id=\"patch_5\">\n    <path clip-path=\"url(#p2a5ffeb6ed)\" d=\"M 115.740909 224.64 \nL 146.177273 224.64 \nL 146.177273 161.309595 \nL 115.740909 161.309595 \nz\n\" style=\"fill:#1f77b4;\"/>\n   </g>\n   <g id=\"patch_6\">\n    <path clip-path=\"url(#p2a5ffeb6ed)\" d=\"M 146.177273 224.64 \nL 176.613636 224.64 \nL 176.613636 90.777964 \nL 146.177273 90.777964 \nz\n\" style=\"fill:#1f77b4;\"/>\n   </g>\n   <g id=\"patch_7\">\n    <path clip-path=\"url(#p2a5ffeb6ed)\" d=\"M 176.613636 224.64 \nL 207.05 224.64 \nL 207.05 17.554286 \nL 176.613636 17.554286 \nz\n\" style=\"fill:#1f77b4;\"/>\n   </g>\n   <g id=\"patch_8\">\n    <path clip-path=\"url(#p2a5ffeb6ed)\" d=\"M 207.05 224.64 \nL 237.486364 224.64 \nL 237.486364 81.019293 \nL 207.05 81.019293 \nz\n\" style=\"fill:#1f77b4;\"/>\n   </g>\n   <g id=\"patch_9\">\n    <path clip-path=\"url(#p2a5ffeb6ed)\" d=\"M 237.486364 224.64 \nL 267.922727 224.64 \nL 267.922727 152.42584 \nL 237.486364 152.42584 \nz\n\" style=\"fill:#1f77b4;\"/>\n   </g>\n   <g id=\"patch_10\">\n    <path clip-path=\"url(#p2a5ffeb6ed)\" d=\"M 267.922727 224.64 \nL 298.359091 224.64 \nL 298.359091 199.132855 \nL 267.922727 199.132855 \nz\n\" style=\"fill:#1f77b4;\"/>\n   </g>\n   <g id=\"patch_11\">\n    <path clip-path=\"url(#p2a5ffeb6ed)\" d=\"M 298.359091 224.64 \nL 328.795455 224.64 \nL 328.795455 220.871134 \nL 298.359091 220.871134 \nz\n\" style=\"fill:#1f77b4;\"/>\n   </g>\n   <g id=\"patch_12\">\n    <path clip-path=\"url(#p2a5ffeb6ed)\" d=\"M 328.795455 224.64 \nL 359.231818 224.64 \nL 359.231818 224.168892 \nL 328.795455 224.168892 \nz\n\" style=\"fill:#1f77b4;\"/>\n   </g>\n   <g id=\"matplotlib.axis_1\">\n    <g id=\"xtick_1\">\n     <g id=\"line2d_1\">\n      <defs>\n       <path d=\"M 0 0 \nL 0 3.5 \n\" id=\"m26b9f7d506\" style=\"stroke:#000000;stroke-width:0.8;\"/>\n      </defs>\n      <g>\n       <use style=\"stroke:#000000;stroke-width:0.8;\" x=\"71.864902\" xlink:href=\"#m26b9f7d506\" y=\"224.64\"/>\n      </g>\n     </g>\n     <g id=\"text_1\">\n      <!-- −3 -->\n      <g transform=\"translate(64.493808 239.238437)scale(0.1 -0.1)\">\n       <defs>\n        <path d=\"M 10.59375 35.5 \nL 73.1875 35.5 \nL 73.1875 27.203125 \nL 10.59375 27.203125 \nz\n\" id=\"DejaVuSans-8722\"/>\n        <path d=\"M 40.578125 39.3125 \nQ 47.65625 37.796875 51.625 33 \nQ 55.609375 28.21875 55.609375 21.1875 \nQ 55.609375 10.40625 48.1875 4.484375 \nQ 40.765625 -1.421875 27.09375 -1.421875 \nQ 22.515625 -1.421875 17.65625 -0.515625 \nQ 12.796875 0.390625 7.625 2.203125 \nL 7.625 11.71875 \nQ 11.71875 9.328125 16.59375 8.109375 \nQ 21.484375 6.890625 26.8125 6.890625 \nQ 36.078125 6.890625 40.9375 10.546875 \nQ 45.796875 14.203125 45.796875 21.1875 \nQ 45.796875 27.640625 41.28125 31.265625 \nQ 36.765625 34.90625 28.71875 34.90625 \nL 20.21875 34.90625 \nL 20.21875 43.015625 \nL 29.109375 43.015625 \nQ 36.375 43.015625 40.234375 45.921875 \nQ 44.09375 48.828125 44.09375 54.296875 \nQ 44.09375 59.90625 40.109375 62.90625 \nQ 36.140625 65.921875 28.71875 65.921875 \nQ 24.65625 65.921875 20.015625 65.03125 \nQ 15.375 64.15625 9.8125 62.3125 \nL 9.8125 71.09375 \nQ 15.4375 72.65625 20.34375 73.4375 \nQ 25.25 74.21875 29.59375 74.21875 \nQ 40.828125 74.21875 47.359375 69.109375 \nQ 53.90625 64.015625 53.90625 55.328125 \nQ 53.90625 49.265625 50.4375 45.09375 \nQ 46.96875 40.921875 40.578125 39.3125 \nz\n\" id=\"DejaVuSans-51\"/>\n       </defs>\n       <use xlink:href=\"#DejaVuSans-8722\"/>\n       <use x=\"83.789062\" xlink:href=\"#DejaVuSans-51\"/>\n      </g>\n     </g>\n    </g>\n    <g id=\"xtick_2\">\n     <g id=\"line2d_2\">\n      <g>\n       <use style=\"stroke:#000000;stroke-width:0.8;\" x=\"112.408805\" xlink:href=\"#m26b9f7d506\" y=\"224.64\"/>\n      </g>\n     </g>\n     <g id=\"text_2\">\n      <!-- −2 -->\n      <g transform=\"translate(105.037712 239.238437)scale(0.1 -0.1)\">\n       <defs>\n        <path d=\"M 19.1875 8.296875 \nL 53.609375 8.296875 \nL 53.609375 0 \nL 7.328125 0 \nL 7.328125 8.296875 \nQ 12.9375 14.109375 22.625 23.890625 \nQ 32.328125 33.6875 34.8125 36.53125 \nQ 39.546875 41.84375 41.421875 45.53125 \nQ 43.3125 49.21875 43.3125 52.78125 \nQ 43.3125 58.59375 39.234375 62.25 \nQ 35.15625 65.921875 28.609375 65.921875 \nQ 23.96875 65.921875 18.8125 64.3125 \nQ 13.671875 62.703125 7.8125 59.421875 \nL 7.8125 69.390625 \nQ 13.765625 71.78125 18.9375 73 \nQ 24.125 74.21875 28.421875 74.21875 \nQ 39.75 74.21875 46.484375 68.546875 \nQ 53.21875 62.890625 53.21875 53.421875 \nQ 53.21875 48.921875 51.53125 44.890625 \nQ 49.859375 40.875 45.40625 35.40625 \nQ 44.1875 33.984375 37.640625 27.21875 \nQ 31.109375 20.453125 19.1875 8.296875 \nz\n\" id=\"DejaVuSans-50\"/>\n       </defs>\n       <use xlink:href=\"#DejaVuSans-8722\"/>\n       <use x=\"83.789062\" xlink:href=\"#DejaVuSans-50\"/>\n      </g>\n     </g>\n    </g>\n    <g id=\"xtick_3\">\n     <g id=\"line2d_3\">\n      <g>\n       <use style=\"stroke:#000000;stroke-width:0.8;\" x=\"152.952709\" xlink:href=\"#m26b9f7d506\" y=\"224.64\"/>\n      </g>\n     </g>\n     <g id=\"text_3\">\n      <!-- −1 -->\n      <g transform=\"translate(145.581615 239.238437)scale(0.1 -0.1)\">\n       <defs>\n        <path d=\"M 12.40625 8.296875 \nL 28.515625 8.296875 \nL 28.515625 63.921875 \nL 10.984375 60.40625 \nL 10.984375 69.390625 \nL 28.421875 72.90625 \nL 38.28125 72.90625 \nL 38.28125 8.296875 \nL 54.390625 8.296875 \nL 54.390625 0 \nL 12.40625 0 \nz\n\" id=\"DejaVuSans-49\"/>\n       </defs>\n       <use xlink:href=\"#DejaVuSans-8722\"/>\n       <use x=\"83.789062\" xlink:href=\"#DejaVuSans-49\"/>\n      </g>\n     </g>\n    </g>\n    <g id=\"xtick_4\">\n     <g id=\"line2d_4\">\n      <g>\n       <use style=\"stroke:#000000;stroke-width:0.8;\" x=\"193.496613\" xlink:href=\"#m26b9f7d506\" y=\"224.64\"/>\n      </g>\n     </g>\n     <g id=\"text_4\">\n      <!-- 0 -->\n      <g transform=\"translate(190.315363 239.238437)scale(0.1 -0.1)\">\n       <defs>\n        <path d=\"M 31.78125 66.40625 \nQ 24.171875 66.40625 20.328125 58.90625 \nQ 16.5 51.421875 16.5 36.375 \nQ 16.5 21.390625 20.328125 13.890625 \nQ 24.171875 6.390625 31.78125 6.390625 \nQ 39.453125 6.390625 43.28125 13.890625 \nQ 47.125 21.390625 47.125 36.375 \nQ 47.125 51.421875 43.28125 58.90625 \nQ 39.453125 66.40625 31.78125 66.40625 \nz\nM 31.78125 74.21875 \nQ 44.046875 74.21875 50.515625 64.515625 \nQ 56.984375 54.828125 56.984375 36.375 \nQ 56.984375 17.96875 50.515625 8.265625 \nQ 44.046875 -1.421875 31.78125 -1.421875 \nQ 19.53125 -1.421875 13.0625 8.265625 \nQ 6.59375 17.96875 6.59375 36.375 \nQ 6.59375 54.828125 13.0625 64.515625 \nQ 19.53125 74.21875 31.78125 74.21875 \nz\n\" id=\"DejaVuSans-48\"/>\n       </defs>\n       <use xlink:href=\"#DejaVuSans-48\"/>\n      </g>\n     </g>\n    </g>\n    <g id=\"xtick_5\">\n     <g id=\"line2d_5\">\n      <g>\n       <use style=\"stroke:#000000;stroke-width:0.8;\" x=\"234.040516\" xlink:href=\"#m26b9f7d506\" y=\"224.64\"/>\n      </g>\n     </g>\n     <g id=\"text_5\">\n      <!-- 1 -->\n      <g transform=\"translate(230.859266 239.238437)scale(0.1 -0.1)\">\n       <use xlink:href=\"#DejaVuSans-49\"/>\n      </g>\n     </g>\n    </g>\n    <g id=\"xtick_6\">\n     <g id=\"line2d_6\">\n      <g>\n       <use style=\"stroke:#000000;stroke-width:0.8;\" x=\"274.58442\" xlink:href=\"#m26b9f7d506\" y=\"224.64\"/>\n      </g>\n     </g>\n     <g id=\"text_6\">\n      <!-- 2 -->\n      <g transform=\"translate(271.40317 239.238437)scale(0.1 -0.1)\">\n       <use xlink:href=\"#DejaVuSans-50\"/>\n      </g>\n     </g>\n    </g>\n    <g id=\"xtick_7\">\n     <g id=\"line2d_7\">\n      <g>\n       <use style=\"stroke:#000000;stroke-width:0.8;\" x=\"315.128323\" xlink:href=\"#m26b9f7d506\" y=\"224.64\"/>\n      </g>\n     </g>\n     <g id=\"text_7\">\n      <!-- 3 -->\n      <g transform=\"translate(311.947073 239.238437)scale(0.1 -0.1)\">\n       <use xlink:href=\"#DejaVuSans-51\"/>\n      </g>\n     </g>\n    </g>\n    <g id=\"xtick_8\">\n     <g id=\"line2d_8\">\n      <g>\n       <use style=\"stroke:#000000;stroke-width:0.8;\" x=\"355.672227\" xlink:href=\"#m26b9f7d506\" y=\"224.64\"/>\n      </g>\n     </g>\n     <g id=\"text_8\">\n      <!-- 4 -->\n      <g transform=\"translate(352.490977 239.238437)scale(0.1 -0.1)\">\n       <defs>\n        <path d=\"M 37.796875 64.3125 \nL 12.890625 25.390625 \nL 37.796875 25.390625 \nz\nM 35.203125 72.90625 \nL 47.609375 72.90625 \nL 47.609375 25.390625 \nL 58.015625 25.390625 \nL 58.015625 17.1875 \nL 47.609375 17.1875 \nL 47.609375 0 \nL 37.796875 0 \nL 37.796875 17.1875 \nL 4.890625 17.1875 \nL 4.890625 26.703125 \nz\n\" id=\"DejaVuSans-52\"/>\n       </defs>\n       <use xlink:href=\"#DejaVuSans-52\"/>\n      </g>\n     </g>\n    </g>\n   </g>\n   <g id=\"matplotlib.axis_2\">\n    <g id=\"ytick_1\">\n     <g id=\"line2d_9\">\n      <defs>\n       <path d=\"M 0 0 \nL -3.5 0 \n\" id=\"m16ba790859\" style=\"stroke:#000000;stroke-width:0.8;\"/>\n      </defs>\n      <g>\n       <use style=\"stroke:#000000;stroke-width:0.8;\" x=\"39.65\" xlink:href=\"#m16ba790859\" y=\"224.64\"/>\n      </g>\n     </g>\n     <g id=\"text_9\">\n      <!-- 0 -->\n      <g transform=\"translate(26.2875 228.439219)scale(0.1 -0.1)\">\n       <use xlink:href=\"#DejaVuSans-48\"/>\n      </g>\n     </g>\n    </g>\n    <g id=\"ytick_2\">\n     <g id=\"line2d_10\">\n      <g>\n       <use style=\"stroke:#000000;stroke-width:0.8;\" x=\"39.65\" xlink:href=\"#m16ba790859\" y=\"190.989413\"/>\n      </g>\n     </g>\n     <g id=\"text_10\">\n      <!-- 500 -->\n      <g transform=\"translate(13.5625 194.788631)scale(0.1 -0.1)\">\n       <defs>\n        <path d=\"M 10.796875 72.90625 \nL 49.515625 72.90625 \nL 49.515625 64.59375 \nL 19.828125 64.59375 \nL 19.828125 46.734375 \nQ 21.96875 47.46875 24.109375 47.828125 \nQ 26.265625 48.1875 28.421875 48.1875 \nQ 40.625 48.1875 47.75 41.5 \nQ 54.890625 34.8125 54.890625 23.390625 \nQ 54.890625 11.625 47.5625 5.09375 \nQ 40.234375 -1.421875 26.90625 -1.421875 \nQ 22.3125 -1.421875 17.546875 -0.640625 \nQ 12.796875 0.140625 7.71875 1.703125 \nL 7.71875 11.625 \nQ 12.109375 9.234375 16.796875 8.0625 \nQ 21.484375 6.890625 26.703125 6.890625 \nQ 35.15625 6.890625 40.078125 11.328125 \nQ 45.015625 15.765625 45.015625 23.390625 \nQ 45.015625 31 40.078125 35.4375 \nQ 35.15625 39.890625 26.703125 39.890625 \nQ 22.75 39.890625 18.8125 39.015625 \nQ 14.890625 38.140625 10.796875 36.28125 \nz\n\" id=\"DejaVuSans-53\"/>\n       </defs>\n       <use xlink:href=\"#DejaVuSans-53\"/>\n       <use x=\"63.623047\" xlink:href=\"#DejaVuSans-48\"/>\n       <use x=\"127.246094\" xlink:href=\"#DejaVuSans-48\"/>\n      </g>\n     </g>\n    </g>\n    <g id=\"ytick_3\">\n     <g id=\"line2d_11\">\n      <g>\n       <use style=\"stroke:#000000;stroke-width:0.8;\" x=\"39.65\" xlink:href=\"#m16ba790859\" y=\"157.338825\"/>\n      </g>\n     </g>\n     <g id=\"text_11\">\n      <!-- 1000 -->\n      <g transform=\"translate(7.2 161.138044)scale(0.1 -0.1)\">\n       <use xlink:href=\"#DejaVuSans-49\"/>\n       <use x=\"63.623047\" xlink:href=\"#DejaVuSans-48\"/>\n       <use x=\"127.246094\" xlink:href=\"#DejaVuSans-48\"/>\n       <use x=\"190.869141\" xlink:href=\"#DejaVuSans-48\"/>\n      </g>\n     </g>\n    </g>\n    <g id=\"ytick_4\">\n     <g id=\"line2d_12\">\n      <g>\n       <use style=\"stroke:#000000;stroke-width:0.8;\" x=\"39.65\" xlink:href=\"#m16ba790859\" y=\"123.688238\"/>\n      </g>\n     </g>\n     <g id=\"text_12\">\n      <!-- 1500 -->\n      <g transform=\"translate(7.2 127.487457)scale(0.1 -0.1)\">\n       <use xlink:href=\"#DejaVuSans-49\"/>\n       <use x=\"63.623047\" xlink:href=\"#DejaVuSans-53\"/>\n       <use x=\"127.246094\" xlink:href=\"#DejaVuSans-48\"/>\n       <use x=\"190.869141\" xlink:href=\"#DejaVuSans-48\"/>\n      </g>\n     </g>\n    </g>\n    <g id=\"ytick_5\">\n     <g id=\"line2d_13\">\n      <g>\n       <use style=\"stroke:#000000;stroke-width:0.8;\" x=\"39.65\" xlink:href=\"#m16ba790859\" y=\"90.037651\"/>\n      </g>\n     </g>\n     <g id=\"text_13\">\n      <!-- 2000 -->\n      <g transform=\"translate(7.2 93.83687)scale(0.1 -0.1)\">\n       <use xlink:href=\"#DejaVuSans-50\"/>\n       <use x=\"63.623047\" xlink:href=\"#DejaVuSans-48\"/>\n       <use x=\"127.246094\" xlink:href=\"#DejaVuSans-48\"/>\n       <use x=\"190.869141\" xlink:href=\"#DejaVuSans-48\"/>\n      </g>\n     </g>\n    </g>\n    <g id=\"ytick_6\">\n     <g id=\"line2d_14\">\n      <g>\n       <use style=\"stroke:#000000;stroke-width:0.8;\" x=\"39.65\" xlink:href=\"#m16ba790859\" y=\"56.387063\"/>\n      </g>\n     </g>\n     <g id=\"text_14\">\n      <!-- 2500 -->\n      <g transform=\"translate(7.2 60.186282)scale(0.1 -0.1)\">\n       <use xlink:href=\"#DejaVuSans-50\"/>\n       <use x=\"63.623047\" xlink:href=\"#DejaVuSans-53\"/>\n       <use x=\"127.246094\" xlink:href=\"#DejaVuSans-48\"/>\n       <use x=\"190.869141\" xlink:href=\"#DejaVuSans-48\"/>\n      </g>\n     </g>\n    </g>\n    <g id=\"ytick_7\">\n     <g id=\"line2d_15\">\n      <g>\n       <use style=\"stroke:#000000;stroke-width:0.8;\" x=\"39.65\" xlink:href=\"#m16ba790859\" y=\"22.736476\"/>\n      </g>\n     </g>\n     <g id=\"text_15\">\n      <!-- 3000 -->\n      <g transform=\"translate(7.2 26.535695)scale(0.1 -0.1)\">\n       <use xlink:href=\"#DejaVuSans-51\"/>\n       <use x=\"63.623047\" xlink:href=\"#DejaVuSans-48\"/>\n       <use x=\"127.246094\" xlink:href=\"#DejaVuSans-48\"/>\n       <use x=\"190.869141\" xlink:href=\"#DejaVuSans-48\"/>\n      </g>\n     </g>\n    </g>\n   </g>\n   <g id=\"line2d_16\">\n    <path clip-path=\"url(#p2a5ffeb6ed)\" d=\"M 71.864902 203.912412 \nL 74.322108 203.138435 \nL 76.779314 202.322081 \nL 79.236521 201.46035 \nL 81.693727 200.549986 \nL 84.150933 199.587455 \nL 86.608139 198.568918 \nL 89.065346 197.490201 \nL 91.522552 196.346765 \nL 93.979758 195.133669 \nL 96.436965 193.845535 \nL 98.894171 192.476502 \nL 101.351377 191.020186 \nL 103.808583 189.469631 \nL 106.26579 187.817255 \nL 108.722996 186.054799 \nL 111.180202 184.173268 \nL 113.637408 182.162878 \nL 116.094615 180.012988 \nL 118.551821 177.712052 \nL 121.009027 175.247565 \nL 123.466234 172.606015 \nL 125.92344 169.772856 \nL 128.380646 166.732502 \nL 130.837852 163.468339 \nL 133.295059 159.9628 \nL 135.752265 156.197481 \nL 138.209471 152.15335 \nL 140.666678 147.811059 \nL 143.123884 143.151398 \nL 145.58109 138.155928 \nL 148.038296 132.807848 \nL 150.495503 127.093142 \nL 152.952709 121.002062 \nL 155.409915 114.53101 \nL 157.867122 107.684856 \nL 160.324328 100.479698 \nL 162.781534 92.946051 \nL 165.23874 85.132319 \nL 167.695947 77.108347 \nL 170.153153 68.96867 \nL 172.610359 60.834899 \nL 175.067565 52.856569 \nL 177.524772 45.209612 \nL 179.981978 38.091712 \nL 182.439184 31.713993 \nL 184.896391 26.289008 \nL 187.353597 22.015737 \nL 189.810803 19.063107 \nL 192.268009 17.554286 \nL 194.725216 17.554286 \nL 197.182422 19.063107 \nL 199.639628 22.015737 \nL 202.096835 26.289008 \nL 204.554041 31.713993 \nL 207.011247 38.091712 \nL 209.468453 45.209612 \nL 211.92566 52.856569 \nL 214.382866 60.834899 \nL 216.840072 68.96867 \nL 219.297279 77.108347 \nL 221.754485 85.132319 \nL 224.211691 92.946051 \nL 226.668897 100.479698 \nL 229.126104 107.684856 \nL 231.58331 114.53101 \nL 234.040516 121.002062 \nL 236.497722 127.093142 \nL 238.954929 132.807848 \nL 241.412135 138.155928 \nL 243.869341 143.151398 \nL 246.326548 147.811059 \nL 248.783754 152.15335 \nL 251.24096 156.197481 \nL 253.698166 159.9628 \nL 256.155373 163.468339 \nL 258.612579 166.732502 \nL 261.069785 169.772856 \nL 263.526992 172.606015 \nL 265.984198 175.247565 \nL 268.441404 177.712052 \nL 270.89861 180.012988 \nL 273.355817 182.162878 \nL 275.813023 184.173268 \nL 278.270229 186.054799 \nL 280.727436 187.817255 \nL 283.184642 189.469631 \nL 285.641848 191.020186 \nL 288.099054 192.476502 \nL 290.556261 193.845535 \nL 293.013467 195.133669 \nL 295.470673 196.346765 \nL 297.927879 197.490201 \nL 300.385086 198.568918 \nL 302.842292 199.587455 \nL 305.299498 200.549986 \nL 307.756705 201.46035 \nL 310.213911 202.322081 \nL 312.671117 203.138435 \nL 315.128323 203.912412 \n\" style=\"fill:none;stroke:#ff7f0e;stroke-linecap:square;stroke-width:1.5;\"/>\n   </g>\n   <g id=\"patch_13\">\n    <path d=\"M 39.65 224.64 \nL 39.65 7.2 \n\" style=\"fill:none;stroke:#000000;stroke-linecap:square;stroke-linejoin:miter;stroke-width:0.8;\"/>\n   </g>\n   <g id=\"patch_14\">\n    <path d=\"M 374.45 224.64 \nL 374.45 7.2 \n\" style=\"fill:none;stroke:#000000;stroke-linecap:square;stroke-linejoin:miter;stroke-width:0.8;\"/>\n   </g>\n   <g id=\"patch_15\">\n    <path d=\"M 39.65 224.64 \nL 374.45 224.64 \n\" style=\"fill:none;stroke:#000000;stroke-linecap:square;stroke-linejoin:miter;stroke-width:0.8;\"/>\n   </g>\n   <g id=\"patch_16\">\n    <path d=\"M 39.65 7.2 \nL 374.45 7.2 \n\" style=\"fill:none;stroke:#000000;stroke-linecap:square;stroke-linejoin:miter;stroke-width:0.8;\"/>\n   </g>\n  </g>\n </g>\n <defs>\n  <clipPath id=\"p2a5ffeb6ed\">\n   <rect height=\"217.44\" width=\"334.8\" x=\"39.65\" y=\"7.2\"/>\n  </clipPath>\n </defs>\n</svg>\n",
      "image/png": "[encoded data removed]"
     },
     "metadata": {
      "needs_background": "light"
     }
    }
   ],
   "source": [
    "'''1-Dimensional rejection sampling algorithm.\n",
    "   Try out different p_c (target) distributions and corresponding values of M, q(x)\n",
    "   to assess convergence time and quality\n",
    "   Note: Please modify X in plot_histogram as per the distribution being tested\n",
    "'''\n",
    "\n",
    "N_SAMPLES = 10000\n",
    "Q_VAR = 1.0\n",
    "\n",
    "M = 1\n",
    "\n",
    "#Cauchy distribution\n",
    "MU_C, GAMMA = 0, 1\n",
    "\n",
    "#Normal distribution\n",
    "MU_N, VAR = 0, 1\n",
    "\n",
    "\n",
    "def plot_samples(samples, p_c):\n",
    "    X = np.linspace(-3,3,100)\n",
    "    p_cX = p_c(X)\n",
    "    y,_,_ = plt.hist(samples)\n",
    "    \n",
    "    C = y.max()/np.max(p_cX)\n",
    "\n",
    "    plt.plot(X, C*p_cX)\n",
    "    plt.savefig(\"sample.png\")\n",
    "\n",
    "def rejection_sampling(p_c, q, M):\n",
    "    samples = []\n",
    "    while(len(samples) < N_SAMPLES):\n",
    "        z = np.random.normal(0.0, np.sqrt(Q_VAR))\n",
    "        u = np.random.uniform(0.0, M*q(z))\n",
    "        if u <= p_c(z):\n",
    "            samples.append(z)\n",
    "    samples = np.array(samples)\n",
    "\n",
    "    plot_samples(samples,p_c)\n",
    "\n",
    "p_cauchy = lambda x: (1/(np.pi * GAMMA)) * ( 1 / ( 1 + ((x-MU_C)/GAMMA) ** 2 ) )\n",
    "p_normal = lambda x:  (1/np.sqrt(2*np.pi*VAR)) * np.exp(-(1/2*VAR) * (x-MU_N)**2)\n",
    "\n",
    "q = lambda x: np.exp((-x**2)/(2*Q_VAR)) / np.sqrt(2*np.pi*Q_VAR)\n",
    "\n",
    "rejection_sampling(p_cauchy, q, M)"
   ]
  },
  {
   "cell_type": "code",
   "execution_count": 23,
   "metadata": {},
   "outputs": [
    {
     "output_type": "stream",
     "name": "stdout",
     "text": [
      "(200, 100)\n"
     ]
    }
   ],
   "source": [
    "'''2-Dimensional rejection sampling algorithm.\n",
    "   Try out different p_c (target) distributions and corresponding values of M, q(x)\n",
    "   to assess convergence time and quality\n",
    "   Note: Please modify X in plot_histogram as per the distribution being tested\n",
    "'''\n",
    "N_SAMPLES = 1e4\n",
    "Q_VAR = 1.0\n",
    "\n",
    "M = 10\n",
    "\n",
    "#2D Normal\n",
    "MU_2D = np.array([1.0,2.0])\n",
    "COV = np.array([[1.0,2.0],\n",
    "                [2.0,1.0]])\n",
    "\n",
    "def plot_samples(samples, p_c):\n",
    "    x = np.linspace(-3,3,100)\n",
    "    y = np.linspace(-3,3,100)\n",
    "    XY = np.meshgrid(x,y)\n",
    "    \n",
    "    p_cX = p_c(X)\n",
    "    y,_,_ = plt.scatter(samples)\n",
    "    \n",
    "    plt.plot(X, C*p_cX)\n",
    "    plt.savefig(\"sample.png\")\n",
    "\n",
    "def rejection_sampling(p_c, q, M):\n",
    "    samples = []\n",
    "    while(len(samples) < N_SAMPLES):\n",
    "        z = np.random.multivariate_normal(np.zeros(2), Q_VAR*np.identity(2))\n",
    "        u = np.random.uniform(0.0, M*q(z))\n",
    "        if u <= p_c(z):\n",
    "            samples.append(z)\n",
    "    samples = np.array(samples)\n",
    "\n",
    "    plot_samples(samples,p_c)\n",
    "\n",
    "\n",
    "p_normal_2d = lambda x:  (1/np.sqrt(2*np.pi*np.linalg.det(np.abs(COV)))) * np.exp(-0.5 * (x-MU_2D).dot(COV.dot(x-MU_2D)))\n",
    "\n",
    "q = lambda x: (1/np.sqrt(2*np.pi*Q_VAR)) * np.exp(-0.5 * np.linalg.norm(x)**2)\n",
    "print(np.hstack(np.meshgrid(np.linspace(-3,3,100),np.linspace(-3,3,100))).T.shape)\n",
    "# rejection_sampling(p_normal_2d, q, M)"
   ]
  },
  {
   "source": [
    "### 2.2 Monte Carlo sampling\n",
    "\n",
    "This method is used to compute intractable expectations approximately. For commputing expectation of $f(x)$ over a distribution $p(x)$ (which can be sampled from), we have $$E_p[f(x)] = \\int f(x) p(x) dx \\\\\n",
    "                                E_p[f(x)] \\approx \\frac{1}{S} \\sum_{s=1}^S f(x^{(s)}) \\quad ; \\quad x^{(s)} \\sim p(x)$$\n"
   ],
   "cell_type": "markdown",
   "metadata": {}
  },
  {
   "cell_type": "code",
   "execution_count": null,
   "metadata": {},
   "outputs": [],
   "source": []
  },
  {
   "source": [
    "### 2.3 Importance sampling\n",
    "\n",
    "This method is used to compute intractable expectations approximately, where we cannot sample directly from the target distribution.\n",
    "Consider a function $f(x)$, whose expectation we wish to calculate, over a distribution $p(x)$. Suppose that the quantity $$E_p[f(x)] = \\int f(x) p(x) dx$$ is intractable. We use a proposal distribution $q(x)$ (again defined atleast over the support of $p(x)$) so that the integral above is written as $$E_p[f(x)] = \\int f(x) \\frac{p(x)}{q(x)} q(x) dx \\\\\n",
    "                          = E_q[f(x)w(x)]$$\n",
    "This quantity can be easily approximated using Monte Carlo sampling such that $$E_q[f(x)w(x)] = \\frac{1}{S}\\sum_{s=1}^S f(x^{(s)})w(x^{(s)}) \\quad ; \\quad \\{x^{(s)}\\}_{s=1}^S \\sim q(x).$$"
   ],
   "cell_type": "markdown",
   "metadata": {}
  },
  {
   "source": [
    "** *Note that Monte Carlo sampling and Importance sampling are not designed to sample from a probability distribution, but only to compute expectations over a given distribution.* **\n",
    "\n",
    "The above algorithms are useful till the problems involved are of low-dimension and \"simple\". As soon as the complexity increases, the above methods fail to provide a solution to the approximate inference problem.\n",
    "\n",
    "Hence we consider MCMC based sampling algorithms which can generalize well to problems of increased complexity."
   ],
   "cell_type": "markdown",
   "metadata": {}
  },
  {
   "source": [
    "#### Quick Detour - Markov Chains\n",
    "\n",
    "Markov chains are an interesting and important concept in probability, where we model a series of outcomes, with the current state based only on the previous outcome. Formally $$p(x_t \\, | \\, x_1,x_2,...,x_{t-1}) = p(x_t\\, | \\, x_{t-1})$$"
   ],
   "cell_type": "markdown",
   "metadata": {}
  },
  {
   "source": [
    "### 2.4 Metropolis-Hastings (MH) Algorithm\n",
    "\n",
    "This is one of the most important MCMC based sampling methods. "
   ],
   "cell_type": "markdown",
   "metadata": {}
  },
  {
   "source": [
    "### 2.5 Gibbs Sampling\n",
    "\n",
    "Another important sampling algorithm"
   ],
   "cell_type": "markdown",
   "metadata": {}
  },
  {
   "cell_type": "code",
   "execution_count": null,
   "metadata": {},
   "outputs": [],
   "source": []
  }
 ]
}